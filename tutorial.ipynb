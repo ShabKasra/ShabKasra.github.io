{
 "cells": [
  {
   "cell_type": "markdown",
   "id": "2109cdcc-d9e0-4d17-969b-c2b186594240",
   "metadata": {},
   "source": [
    "Final Tutorial: Prediciting Regualar Season Performance of NBA Players based on Previous Year Performances of Players"
   ]
  }
 ],
 "metadata": {
  "kernelspec": {
   "display_name": "Python 3 (ipykernel)",
   "language": "python",
   "name": "python3"
  },
  "language_info": {
   "codemirror_mode": {
    "name": "ipython",
    "version": 3
   },
   "file_extension": ".py",
   "mimetype": "text/x-python",
   "name": "python",
   "nbconvert_exporter": "python",
   "pygments_lexer": "ipython3",
   "version": "3.9.7"
  }
 },
 "nbformat": 4,
 "nbformat_minor": 5
}
